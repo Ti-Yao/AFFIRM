{
 "cells": [
  {
   "cell_type": "code",
   "execution_count": 1,
   "id": "initial-interim",
   "metadata": {},
   "outputs": [],
   "source": [
    "import sys\n",
    "sys.path.append('../')\n",
    "from AFFIRM import *\n"
   ]
  },
  {
   "cell_type": "code",
   "execution_count": 2,
   "id": "searching-brunswick",
   "metadata": {},
   "outputs": [],
   "source": [
    "data_path = '/media/tina/Seagate Expansion Drive/Work/hirid/'\n",
    "label_name = 'AF'\n",
    "affirm = AFFIRM(data_path, label_name)"
   ]
  },
  {
   "cell_type": "code",
   "execution_count": 3,
   "id": "beautiful-avenue",
   "metadata": {},
   "outputs": [],
   "source": [
    "preprocess_params = {\n",
    "    'rename_dict' : {'temp':'Temperature','mean.arterial.pressure':'MAP','systolic.arterial.pressure':'Systolic BP',\n",
    "               'diastolic.arterial.pressure':'Diastolic BP'},\n",
    "    'parameter_dict' : {'Circadian_rhythm': [4, 10]},\n",
    "     \n",
    "    'filter_range': [0.01, 0.99]\n",
    "}\n",
    "affirm.fit_preprocess(**preprocess_params)\n",
    "# affirm.preprocess()"
   ]
  },
  {
   "cell_type": "code",
   "execution_count": 4,
   "id": "fallen-chosen",
   "metadata": {},
   "outputs": [],
   "source": [
    "prepare_params = {\n",
    "    'predict_hours': 6,                 \n",
    "    'grouping_hours': 1,\n",
    "    'group_how_list': ['max'],#,'min'],\n",
    "    'group_label_within':120, \n",
    "    'rolling': False,\n",
    "    'take_first': False,\n",
    "    'percentage_patients_per_variable': 0.8, \n",
    "    'avg_values_each': 2,\n",
    "    'feature_names': [],\n",
    "    'pharma_quantile' : 0.75,\n",
    "    'include_patients':[],\n",
    "    'exclude_patients': [],#'Surgical Cardiovascular'\n",
    "    \n",
    "}\n",
    "affirm.fit_prepare(**prepare_params)\n",
    "# affirm.prepare()"
   ]
  },
  {
   "cell_type": "code",
   "execution_count": 5,
   "id": "classical-momentum",
   "metadata": {},
   "outputs": [],
   "source": [
    "def create_keras():  \n",
    "    model = Sequential()\n",
    "    model.add(Dense(8, activation='relu'))\n",
    "    model.add(Dense(8, activation='relu'))\n",
    "    model.add(Dense(8, activation='relu'))\n",
    "    model.add(Dense(1, activation='sigmoid'))\n",
    "    model.compile(loss='binary_crossentropy', optimizer='adam', metrics=[AUC(curve=\"PR\", name='auprc')])        \n",
    "    return model\n",
    "\n",
    "keras_model = create_keras()\n",
    "keras_model = KerasClassifier(build_fn= create_keras, verbose=0)\n",
    "keras_model._estimator_type = \"classifier\"\n",
    "predict_params = {\n",
    "    'models': {\n",
    "#         'Logistic Regression': LogisticRegression(random_state=0)\n",
    "#           , 'Keras':keras_model,\n",
    "#           'Random Forest':RandomForestClassifier(max_depth=4, random_state=0),\n",
    "#             'LightGBM':lgb.LGBMClassifier(boosting_type='gbdt', objective='binary'),\n",
    "#         'Optimised XGBoost': xgb.XGBClassifier(base_score=0.5, \n",
    "#                                                   colsample_bylevel=1, \n",
    "#                                                   colsample_bytree=1,\n",
    "#                                                   gamma=0, \n",
    "#                                                   learning_rate=0.1, \n",
    "#                                                   max_delta_step=0, \n",
    "#                                                   max_depth=10,\n",
    "#                                                   min_child_weight=1, \n",
    "#                                                   n_estimators=100, \n",
    "#                                                   nthread=-1,\n",
    "#                                                   objective='binary:logistic', \n",
    "#                                                   reg_alpha=0, \n",
    "#                                                   reg_lambda=1,\n",
    "#                                                   scale_pos_weight=1, \n",
    "#                                                   eval_metric = 'aucpr',\n",
    "#                                                   seed=0, \n",
    "#                                                   missing = 1,\n",
    "#                                                   subsample=1,\n",
    "#                                                   use_label_encoder=False), \n",
    "        'XGBoost': xgb.XGBClassifier(objective = \"binary:logistic\",\n",
    "           eval_metric = \"aucpr\",use_label_encoder=False)\n",
    "         },\n",
    "    'colors' : {'LightGBM': '#4e8542',# dark green\n",
    "          'Baseline': '#ff9292', #pink\n",
    "          'Logistic Regression':'#eccd1c', #gold\n",
    "          'Random Forest': '#6aa4c8', #sky blye\n",
    "          'XGBoost': '#ff833c', #organ\n",
    "            'Optimised XGBoost': '#fcaf83',\n",
    "          'Keras': '#8dd8d3' #light blue\n",
    "         },\n",
    "    'n_splits': 2,\n",
    "    'keep_top_features': 20,\n",
    "    'intervention_features': ['Potassium', 'Magnesium']\n",
    "     \n",
    "}\n",
    "affirm.fit_predict(**predict_params)"
   ]
  },
  {
   "cell_type": "code",
   "execution_count": 6,
   "id": "described-knife",
   "metadata": {},
   "outputs": [],
   "source": [
    "obs_variables = pd.Series(affirm.obs_variables).str.replace('_max','').values # "
   ]
  },
  {
   "cell_type": "code",
   "execution_count": 7,
   "id": "impressed-problem",
   "metadata": {},
   "outputs": [],
   "source": [
    "top_features = ['age', 'Heart_rate', 'patient', 'bmi', 'sex',\n",
    "'Respiratory_rate', 'MAP', 'Infusion_of_saline_solution', 'Diastolic BP',       \n",
    "'Systolic BP', 'Peripheral_oxygen_saturation',\n",
    "'Glasgow_Coma_Score_verbal_response_subscore',       \n",
    "'Fluid_balance', 'Richmond_agitationsedation_scale',       \n",
    "'Oxygen_administration_by_nasal_cannula', 'Lactate_Massvolume_in_Arterial_blood',   \n",
    "'Glucose_Molesvolume_in_Serum_or_Plasma',\n",
    "'CarboxyhemoglobinHemoglobintotal_in_Arterial_blood',\n",
    "'Hourly_urine_volume','Glasgow_Coma_Score_eye_opening_subscore']"
   ]
  },
  {
   "cell_type": "code",
   "execution_count": 8,
   "id": "alleged-baltimore",
   "metadata": {},
   "outputs": [],
   "source": [
    "top_features = list(set(top_features).intersection(set(obs_variables)))"
   ]
  },
  {
   "cell_type": "code",
   "execution_count": 9,
   "id": "raised-polymer",
   "metadata": {},
   "outputs": [
    {
     "data": {
      "text/plain": [
       "['Heart_rate',\n",
       " 'Glasgow_Coma_Score_verbal_response_subscore',\n",
       " 'Infusion_of_saline_solution',\n",
       " 'Peripheral_oxygen_saturation',\n",
       " 'MAP',\n",
       " 'Glasgow_Coma_Score_eye_opening_subscore',\n",
       " 'CarboxyhemoglobinHemoglobintotal_in_Arterial_blood',\n",
       " 'Fluid_balance',\n",
       " 'Diastolic BP',\n",
       " 'Respiratory_rate',\n",
       " 'Systolic BP',\n",
       " 'Richmond_agitationsedation_scale',\n",
       " 'Lactate_Massvolume_in_Arterial_blood',\n",
       " 'Oxygen_administration_by_nasal_cannula',\n",
       " 'Hourly_urine_volume',\n",
       " 'Glucose_Molesvolume_in_Serum_or_Plasma']"
      ]
     },
     "execution_count": 9,
     "metadata": {},
     "output_type": "execute_result"
    }
   ],
   "source": [
    "top_features"
   ]
  },
  {
   "cell_type": "code",
   "execution_count": 10,
   "id": "mexican-romania",
   "metadata": {},
   "outputs": [],
   "source": [
    "F = []\n",
    "for Nfile in range(10):\n",
    "    df = pd.read_parquet(affirm.preprocessed_path + f'observation_tables/part-{Nfile}.parquet')\n",
    "\n",
    "    pharma_df = pd.read_parquet(affirm.preprocessed_path + f'pharma_records/part-{Nfile}.parquet')\n",
    "\n",
    "    if len(affirm.exclude_patients) != 0 or len(affirm.include_patients) != 0:\n",
    "        df = affirm.include_exclude_patients(df)\n",
    "    df, pharma_df = affirm.variable_chooser(df, pharma_df)\n",
    "    df = affirm.prepare_labels(df)\n",
    "\n",
    "    df = df[top_features + ['AF']]\n",
    "    df = affirm.add_missingness_flag(df, top_features)\n",
    "    F.append(df)\n",
    "df = pd.concat(F)"
   ]
  },
  {
   "cell_type": "code",
   "execution_count": 11,
   "id": "prerequisite-wagner",
   "metadata": {},
   "outputs": [],
   "source": [
    "pids = list(df.reset_index().patientid.unique())\n",
    "\n",
    "keep_variables = df.drop(columns = ['AF']).columns\n",
    "imputer = SimpleImputer(missing_values=np.nan, strategy='constant', fill_value = 0)#, add_indicator = True)\n",
    "\n",
    "df[keep_variables] = imputer.fit_transform(df[keep_variables].values)\n",
    "train_pids, test_pids = train_test_split(pids, random_state=42, test_size=0.2,shuffle = True)#, stratify = df.groupby('patientid').AF.max())\n",
    "\n",
    "temporal_train = df.loc[train_pids,:].sort_index()\n",
    "temporal_test = df.loc[test_pids,:].sort_index()\n",
    "scaler = StandardScaler()\n",
    "temporal_train[keep_variables]  = scaler.fit_transform(temporal_train[keep_variables])\n",
    "temporal_test[keep_variables] = scaler.transform(temporal_test[keep_variables])"
   ]
  },
  {
   "cell_type": "code",
   "execution_count": 12,
   "id": "accessible-brass",
   "metadata": {},
   "outputs": [],
   "source": [
    "def get_pids(df):\n",
    "    return list(df.reset_index().patientid.unique())"
   ]
  },
  {
   "cell_type": "code",
   "execution_count": 13,
   "id": "actual-comparative",
   "metadata": {
    "scrolled": false
   },
   "outputs": [],
   "source": [
    "def get_X_y_temporal(df,grouping_hours):\n",
    "    grouping_hours = int(grouping_hours * 60/5) # need this is 5 minutes\n",
    "    keep_variables = list(df.drop(columns = ['AF'], errors = 'ignore').columns.values)\n",
    "    X = np.array([], dtype=np.float64).reshape(0,grouping_hours,len(keep_variables))\n",
    "    y = []\n",
    "    pids = get_pids(df)\n",
    "    groups = {}\n",
    "    for pid in pids:\n",
    "        pat_df= df.loc[pid] \n",
    "        pat_X = np.array([pat_df[i - grouping_hours:i][keep_variables].values for i in range(grouping_hours, len(pat_df),grouping_hours)])#,n)])\n",
    "#         print(pat_X.shape)\n",
    "        pat_y = [pat_df.iloc[i].AF for i in range(grouping_hours, len(pat_df), grouping_hours)]#,n)]) include n to prevent overlap change len(pat_df) to pat_df.index.max() for hourly\n",
    "        try: \n",
    "            X = np.concatenate((X,pat_X),axis = 0)\n",
    "            y += pat_y\n",
    "            groups[pid] = pat_X.shape[0]\n",
    "        except:\n",
    "            pass\n",
    "    y = np.array(y).reshape(-1,1)\n",
    "    return X, y, groups\n",
    "\n",
    "def get_X_y_temporal(df,grouping_hours):\n",
    "    grouping_hours = int(grouping_hours * 60/5) # need this is 5 minutes\n",
    "    keep_variables = list(df.drop(columns = ['AF'], errors = 'ignore').columns.values)\n",
    "    X = np.array([], dtype=np.float64).reshape(0,grouping_hours,len(keep_variables))\n",
    "    y = []\n",
    "    pids = get_pids(df)\n",
    "    groups = {}\n",
    "    for pid in pids:\n",
    "        pat_df= df.loc[pid] \n",
    "        pat_X = np.array([pat_df[i - grouping_hours:i][keep_variables].values for i in range(grouping_hours, len(pat_df),5)])#,n)])\n",
    "#         print(pat_X.shape)\n",
    "        pat_y = [pat_df.iloc[i].AF for i in range(grouping_hours, len(pat_df),5)]#,n)]) include n to prevent overlap change len(pat_df) to pat_df.index.max() for hourly\n",
    "        try: \n",
    "            X = np.concatenate((X,pat_X),axis = 0)\n",
    "            y += pat_y\n",
    "            groups[pid] = pat_X.shape[0]\n",
    "        except:\n",
    "            pass\n",
    "    y = np.array(y).reshape(-1,1)\n",
    "    return X, y, groups\n",
    "\n",
    "X_train, y_train, train_groups =  get_X_y_temporal(temporal_train,2)\n",
    "X_test, y_test, test_groups =  get_X_y_temporal(temporal_test,2)"
   ]
  },
  {
   "cell_type": "code",
   "execution_count": 14,
   "id": "handled-salmon",
   "metadata": {},
   "outputs": [
    {
     "name": "stdout",
     "output_type": "stream",
     "text": [
      "Epoch 1/10\n",
      "238/238 [==============================] - 36s 148ms/step - loss: 0.3560 - val_loss: 0.4419\n",
      "Epoch 2/10\n",
      "238/238 [==============================] - 37s 155ms/step - loss: 0.2784 - val_loss: 0.4428\n",
      "Epoch 3/10\n",
      "238/238 [==============================] - 37s 157ms/step - loss: 0.2641 - val_loss: 0.4913\n",
      "Epoch 4/10\n",
      "238/238 [==============================] - 37s 156ms/step - loss: 0.2522 - val_loss: 0.5197\n",
      "Epoch 5/10\n",
      "238/238 [==============================] - 37s 156ms/step - loss: 0.2394 - val_loss: 0.4481\n",
      "Epoch 6/10\n",
      "238/238 [==============================] - 37s 157ms/step - loss: 0.2291 - val_loss: 0.4831\n",
      "Epoch 7/10\n",
      "238/238 [==============================] - 38s 158ms/step - loss: 0.2155 - val_loss: 0.5787\n",
      "Epoch 8/10\n",
      "238/238 [==============================] - 38s 159ms/step - loss: 0.2006 - val_loss: 0.6214\n",
      "Epoch 9/10\n",
      "238/238 [==============================] - 38s 159ms/step - loss: 0.1865 - val_loss: 0.6198\n",
      "Epoch 10/10\n",
      "238/238 [==============================] - 38s 158ms/step - loss: 0.1697 - val_loss: 0.6917\n",
      "1144/1144 [==============================] - 4s 3ms/step - loss: 0.3867\n"
     ]
    },
    {
     "data": {
      "text/plain": [
       "0.38674864172935486"
      ]
     },
     "execution_count": 14,
     "metadata": {},
     "output_type": "execute_result"
    }
   ],
   "source": [
    "from sklearn.preprocessing import StandardScaler\n",
    "from tensorflow.keras import Sequential,Model\n",
    "from tensorflow.keras.callbacks import ModelCheckpoint,EarlyStopping\n",
    "from tensorflow.keras.layers import Dense, Dropout,concatenate\n",
    "from tcn import TCN\n",
    "from sklearn.metrics import roc_curve,roc_auc_score, precision_recall_curve,average_precision_score,f1_score,auc,confusion_matrix\n",
    "\n",
    "model = Sequential()\n",
    "model.add(TCN(kernel_size=6, dilations=[1, 2, 4, 8, 16],input_shape= (X_train.shape[1],X_train.shape[2])))\n",
    "model.add(Dense(1,activation = 'sigmoid'))\n",
    "\n",
    "model.compile(loss='binary_crossentropy', optimizer='adam')\n",
    "checkpoint = ModelCheckpoint('weights.h5', monitor='get_f1',save_best_only=True, verbose=2)\n",
    "early_stopping = EarlyStopping(monitor='get_f1', patience=5)\n",
    "\n",
    "history = model.fit(\n",
    "    X_train, y_train,\n",
    "    batch_size=512, \n",
    "    epochs=10,\n",
    "    validation_split=0.1)#, \n",
    "    #callbacks=[early_stopping, checkpoint])\n",
    "\n",
    "model.evaluate(X_test,y_test)\n"
   ]
  },
  {
   "cell_type": "code",
   "execution_count": 15,
   "id": "offensive-kennedy",
   "metadata": {},
   "outputs": [],
   "source": [
    "def calc_auprc(y_test,y_pred):\n",
    "    precision,recall,  _ = precision_recall_curve(y_test, y_pred) # calculate recall and precision\n",
    "    AUPRC = auc(recall, precision) # calculate area under the precision-recall curve\n",
    "    return AUPRC"
   ]
  },
  {
   "cell_type": "code",
   "execution_count": 16,
   "id": "professional-consciousness",
   "metadata": {},
   "outputs": [
    {
     "data": {
      "text/plain": [
       "0.18549333030574416"
      ]
     },
     "execution_count": 16,
     "metadata": {},
     "output_type": "execute_result"
    }
   ],
   "source": [
    "y_pred = model.predict(X_test)\n",
    "y_pred[y_pred >= 0.5] = 1\n",
    "y_pred[y_pred < 0.5] = 0\n",
    "calc_auprc(y_test,y_pred)"
   ]
  },
  {
   "cell_type": "code",
   "execution_count": 17,
   "id": "incident-accountability",
   "metadata": {},
   "outputs": [
    {
     "data": {
      "text/plain": [
       "array([[0.],\n",
       "       [0.],\n",
       "       [0.],\n",
       "       ...,\n",
       "       [0.],\n",
       "       [0.],\n",
       "       [0.]], dtype=float32)"
      ]
     },
     "execution_count": 17,
     "metadata": {},
     "output_type": "execute_result"
    }
   ],
   "source": [
    "y_pred"
   ]
  },
  {
   "cell_type": "code",
   "execution_count": 18,
   "id": "lined-challenge",
   "metadata": {},
   "outputs": [
    {
     "data": {
      "text/plain": [
       "<AxesSubplot:>"
      ]
     },
     "execution_count": 18,
     "metadata": {},
     "output_type": "execute_result"
    },
    {
     "data": {
      "image/png": "[encoded data removed]",
      "text/plain": [
       "<Figure size 432x288 with 2 Axes>"
      ]
     },
     "metadata": {
      "needs_background": "light"
     },
     "output_type": "display_data"
    }
   ],
   "source": [
    "sns.heatmap(confusion_matrix(y_test, y_pred), annot = True)"
   ]
  },
  {
   "cell_type": "code",
   "execution_count": null,
   "id": "academic-bibliography",
   "metadata": {},
   "outputs": [],
   "source": []
  }
 ],
 "metadata": {
  "kernelspec": {
   "display_name": "Python 3",
   "language": "python",
   "name": "python3"
  },
  "language_info": {
   "codemirror_mode": {
    "name": "ipython",
    "version": 3
   },
   "file_extension": ".py",
   "mimetype": "text/x-python",
   "name": "python",
   "nbconvert_exporter": "python",
   "pygments_lexer": "ipython3",
   "version": "3.9.5"
  }
 },
 "nbformat": 4,
 "nbformat_minor": 5
}
