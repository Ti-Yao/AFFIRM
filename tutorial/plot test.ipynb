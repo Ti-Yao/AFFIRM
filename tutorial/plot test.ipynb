{
 "cells": [
  {
   "cell_type": "code",
   "execution_count": 7,
   "id": "beginning-punishment",
   "metadata": {},
   "outputs": [
    {
     "data": {
      "application/vnd.jupyter.widget-view+json": {
       "model_id": "8bd75d8f0f7e41b3914669832bce49e5",
       "version_major": 2,
       "version_minor": 0
      },
      "text/plain": [
       "  0%|          | 0/2 [00:00<?, ?it/s]"
      ]
     },
     "metadata": {},
     "output_type": "display_data"
    }
   ],
   "source": [
    "import sys\n",
    "sys.path.append('../')\n",
    "from AFFIRM import *\n",
    "\n",
    "\n",
    "data_path = '/media/tina/Seagate Expansion Drive/Work/hirid'\n",
    "label_name = 'AF_non_cardiac_surgical'\n",
    "affirm = AFFIRM(data_path, label_name)\n",
    "\n",
    "## preprocess hirid\n",
    "\n",
    "preprocess_params = {\n",
    "    'rename_dict' : {'temp':'Temperature','mean.arterial.pressure':'MAP','systolic.arterial.pressure':'Systolic BP',\n",
    "               'diastolic.arterial.pressure':'Diastolic BP'},\n",
    "    'parameter_dict' : {'Circadian_rhythm': [10,11]},\n",
    "     'percentage_patients_per_variable': 0.8, \n",
    "    'avg_values_each': 2,\n",
    "    'feature_names': [],\n",
    "    'include_patients':[],\n",
    "    'exclude_patients': ['Surgical Cardiovascular'],\n",
    "    'filter_range': [0.01, 0.99]\n",
    "}\n",
    "affirm.fit_preprocess(**preprocess_params)\n",
    "affirm.preprocess()\n",
    "\n",
    "## prepare\n",
    "\n",
    "prepare_params = {\n",
    "    'predict_hours': 6,                 \n",
    "    'grouping_hours': 2,\n",
    "    'group_how_list': ['min','max'],#['max','min'],\n",
    "    'group_label_within':120, \n",
    "    'rolling': False,\n",
    "    'take_first': False\n",
    "}\n",
    "affirm.fit_prepare(**prepare_params)\n",
    "# affirm.prepare()"
   ]
  },
  {
   "cell_type": "code",
   "execution_count": 77,
   "id": "august-radar",
   "metadata": {},
   "outputs": [],
   "source": []
  },
  {
   "cell_type": "code",
   "execution_count": 88,
   "id": "sudden-georgia",
   "metadata": {},
   "outputs": [],
   "source": [
    "mean_auc = np.mean(aucs)\n",
    "mean_auprc = np.mean(auprcs)\n",
    "std_auc = np.std(aucs)\n",
    "std_auprc = np.mean(auprcs)"
   ]
  },
  {
   "cell_type": "code",
   "execution_count": 82,
   "id": "virgin-desktop",
   "metadata": {},
   "outputs": [],
   "source": [
    "colors = {'LightGBM': '#4e8542',# dark green\n",
    "          'Baseline': '#ff9292', #pink\n",
    "          'Logistic Regression':'#eccd1c', #gold\n",
    "          'Random Forest': '#6aa4c8', #sky blye\n",
    "          'XGBoost': '#ff833c', #organ\n",
    "            'Optimised XGBoost': '#fcaf83',\n",
    "          'Keras': '#8dd8d3' #light blue\n",
    "         }"
   ]
  },
  {
   "cell_type": "code",
   "execution_count": 80,
   "id": "scientific-ferry",
   "metadata": {},
   "outputs": [],
   "source": [
    "mean_vals = np.linspace(0, 1, 100)"
   ]
  },
  {
   "cell_type": "code",
   "execution_count": 89,
   "id": "recognized-chart",
   "metadata": {},
   "outputs": [
    {
     "data": {
      "text/plain": [
       "<matplotlib.collections.PolyCollection at 0x7f86bc32b550>"
      ]
     },
     "execution_count": 89,
     "metadata": {},
     "output_type": "execute_result"
    },
    {
     "data": {
      "image/png": "[encoded data removed]",
      "text/plain": [
       "<Figure size 1080x432 with 2 Axes>"
      ]
     },
     "metadata": {
      "needs_background": "light"
     },
     "output_type": "display_data"
    }
   ],
   "source": [
    "fig, axs = plt.subplots(1, 2, figsize = (15,6)) # create a figure for both AUC plots\n",
    "ax_roc, ax_pr = axs # split the plots\n",
    "ax_roc.plot(mean_vals, mean_tpr, \n",
    "label=f'(AUC = {mean_auc:.2f} $\\pm$ {std_auc:.2f})', lw=3) # plot the AUROC\n",
    "ax_roc.fill_between(mean_vals, tprs_lower, tprs_upper, alpha=.2) # plot the standard deviation of AUROC\n",
    "ax_pr.plot(mean_vals, mean_precision, \n",
    "label=f'(AUPRC = {mean_auprc:.2f} $\\pm$ {std_auprc:.2f})',\n",
    "lw=2, alpha=.8)    # plot the AUPRC\n",
    "ax_pr.fill_between(mean_vals, precisions_lower, precisions_upper, alpha=.2) # plot the standard deviation of AUPRC"
   ]
  },
  {
   "cell_type": "code",
   "execution_count": 92,
   "id": "marked-undergraduate",
   "metadata": {},
   "outputs": [],
   "source": [
    "model_name = 'XGBoost'\n",
    "prediction_comparisons = ['AF','AF_cardiac_surgical','AF_non_cardiac_surgical']"
   ]
  },
  {
   "cell_type": "code",
   "execution_count": 95,
   "id": "renewable-milan",
   "metadata": {},
   "outputs": [],
   "source": [
    "\n",
    "\n",
    "def get_metrics(results_path, axs, comparison, model_name, grouping, predict):\n",
    "    ax_roc, ax_pr = axs # split the plots\n",
    "    auc_df = pd.read_csv(f'{results_path}/{comparison}/grouping={grouping}_predict={predict}/{model_name}/auc.csv', index_col=0)\n",
    "    precision_df = pd.read_csv(f'{results_path}/{comparison}/grouping={grouping}_predict={predict}/{model_name}/precision.csv', index_col=0)\n",
    "    tpr_df = pd.read_csv(f'{results_path}/{comparison}/grouping={grouping}_predict={predict}/{model_name}/tpr.csv', index_col=0)\n",
    "    \n",
    "    aucs = auc_df['auc'].tolist()\n",
    "    auprcs = auc_df['auprc'].tolist()\n",
    "    \n",
    "    precisions_lower = precision_df['precisions_lower'].tolist()\n",
    "    mean_precision = precision_df['mean_precision'].tolist()\n",
    "    precisions_upper = precision_df['precisions_upper'].tolist()\n",
    "\n",
    "    tprs_lower = tpr_df['tprs_lower'].tolist()\n",
    "    mean_tpr = tpr_df['mean_tpr'].tolist()\n",
    "    tprs_upper = tpr_df['tprs_upper'].tolist()\n",
    "    plot_metrics(axs, mean_tpr,tprs_lower, tprs_upper, mean_precision, precisions_lower, precisions_upper, mean_auc, std_auc, mean_auprc, std_auprc)\n",
    "    \n",
    "    ax_roc.plot(mean_vals, mean_tpr, label=f'(AUC = {mean_auc:.2f} $\\pm$ {std_auc:.2f})', lw=3) # plot the AUROC\n",
    "    ax_roc.fill_between(mean_vals, tprs_lower, tprs_upper, alpha=.2) # plot the standard deviation of AUROC\n",
    "    ax_pr.plot(mean_vals, mean_precision,label=f'(AUPRC = {mean_auprc:.2f} $\\pm$ {std_auprc:.2f})', lw=2, alpha=.8)    # plot the AUPRC\n",
    "    ax_pr.fill_between(mean_vals, precisions_lower, precisions_upper, alpha=.2) # plot the standard deviation of AUPRC"
   ]
  },
  {
   "cell_type": "code",
   "execution_count": 96,
   "id": "recreational-coordinator",
   "metadata": {},
   "outputs": [
    {
     "ename": "KeyError",
     "evalue": "'auc'",
     "output_type": "error",
     "traceback": [
      "\u001b[0;31m---------------------------------------------------------------------------\u001b[0m",
      "\u001b[0;31mKeyError\u001b[0m                                  Traceback (most recent call last)",
      "\u001b[0;32m~/.local/lib/python3.9/site-packages/pandas/core/indexes/base.py\u001b[0m in \u001b[0;36mget_loc\u001b[0;34m(self, key, method, tolerance)\u001b[0m\n\u001b[1;32m   3360\u001b[0m             \u001b[0;32mtry\u001b[0m\u001b[0;34m:\u001b[0m\u001b[0;34m\u001b[0m\u001b[0;34m\u001b[0m\u001b[0m\n\u001b[0;32m-> 3361\u001b[0;31m                 \u001b[0;32mreturn\u001b[0m \u001b[0mself\u001b[0m\u001b[0;34m.\u001b[0m\u001b[0m_engine\u001b[0m\u001b[0;34m.\u001b[0m\u001b[0mget_loc\u001b[0m\u001b[0;34m(\u001b[0m\u001b[0mcasted_key\u001b[0m\u001b[0;34m)\u001b[0m\u001b[0;34m\u001b[0m\u001b[0;34m\u001b[0m\u001b[0m\n\u001b[0m\u001b[1;32m   3362\u001b[0m             \u001b[0;32mexcept\u001b[0m \u001b[0mKeyError\u001b[0m \u001b[0;32mas\u001b[0m \u001b[0merr\u001b[0m\u001b[0;34m:\u001b[0m\u001b[0;34m\u001b[0m\u001b[0;34m\u001b[0m\u001b[0m\n",
      "\u001b[0;32m~/.local/lib/python3.9/site-packages/pandas/_libs/index.pyx\u001b[0m in \u001b[0;36mpandas._libs.index.IndexEngine.get_loc\u001b[0;34m()\u001b[0m\n",
      "\u001b[0;32m~/.local/lib/python3.9/site-packages/pandas/_libs/index.pyx\u001b[0m in \u001b[0;36mpandas._libs.index.IndexEngine.get_loc\u001b[0;34m()\u001b[0m\n",
      "\u001b[0;32mpandas/_libs/hashtable_class_helper.pxi\u001b[0m in \u001b[0;36mpandas._libs.hashtable.PyObjectHashTable.get_item\u001b[0;34m()\u001b[0m\n",
      "\u001b[0;32mpandas/_libs/hashtable_class_helper.pxi\u001b[0m in \u001b[0;36mpandas._libs.hashtable.PyObjectHashTable.get_item\u001b[0;34m()\u001b[0m\n",
      "\u001b[0;31mKeyError\u001b[0m: 'auc'",
      "\nThe above exception was the direct cause of the following exception:\n",
      "\u001b[0;31mKeyError\u001b[0m                                  Traceback (most recent call last)",
      "\u001b[0;32m<ipython-input-96-2ae93f3fed46>\u001b[0m in \u001b[0;36m<module>\u001b[0;34m\u001b[0m\n\u001b[1;32m      1\u001b[0m \u001b[0mfig\u001b[0m\u001b[0;34m,\u001b[0m \u001b[0maxs\u001b[0m \u001b[0;34m=\u001b[0m \u001b[0mplt\u001b[0m\u001b[0;34m.\u001b[0m\u001b[0msubplots\u001b[0m\u001b[0;34m(\u001b[0m\u001b[0;36m1\u001b[0m\u001b[0;34m,\u001b[0m \u001b[0;36m2\u001b[0m\u001b[0;34m,\u001b[0m \u001b[0mfigsize\u001b[0m \u001b[0;34m=\u001b[0m \u001b[0;34m(\u001b[0m\u001b[0;36m15\u001b[0m\u001b[0;34m,\u001b[0m\u001b[0;36m6\u001b[0m\u001b[0;34m)\u001b[0m\u001b[0;34m)\u001b[0m \u001b[0;31m# create a figure for both AUC plots\u001b[0m\u001b[0;34m\u001b[0m\u001b[0;34m\u001b[0m\u001b[0m\n\u001b[1;32m      2\u001b[0m \u001b[0;32mfor\u001b[0m \u001b[0mcomparison\u001b[0m \u001b[0;32min\u001b[0m \u001b[0mprediction_comparisons\u001b[0m\u001b[0;34m:\u001b[0m\u001b[0;34m\u001b[0m\u001b[0;34m\u001b[0m\u001b[0m\n\u001b[0;32m----> 3\u001b[0;31m     \u001b[0mget_metrics\u001b[0m\u001b[0;34m(\u001b[0m\u001b[0mresults_path\u001b[0m \u001b[0;34m=\u001b[0m \u001b[0;34m'results/'\u001b[0m\u001b[0;34m,\u001b[0m \u001b[0maxs\u001b[0m \u001b[0;34m=\u001b[0m \u001b[0maxs\u001b[0m\u001b[0;34m,\u001b[0m \u001b[0mcomparison\u001b[0m \u001b[0;34m=\u001b[0m \u001b[0mcomparison\u001b[0m\u001b[0;34m,\u001b[0m \u001b[0mmodel_name\u001b[0m \u001b[0;34m=\u001b[0m \u001b[0;34m'XGBoost'\u001b[0m\u001b[0;34m,\u001b[0m \u001b[0mgrouping\u001b[0m \u001b[0;34m=\u001b[0m \u001b[0;36m2\u001b[0m\u001b[0;34m,\u001b[0m \u001b[0mpredict\u001b[0m \u001b[0;34m=\u001b[0m \u001b[0;36m6\u001b[0m\u001b[0;34m)\u001b[0m\u001b[0;34m\u001b[0m\u001b[0;34m\u001b[0m\u001b[0m\n\u001b[0m",
      "\u001b[0;32m<ipython-input-95-32b759803c9b>\u001b[0m in \u001b[0;36mget_metrics\u001b[0;34m(results_path, axs, comparison, model_name, grouping, predict)\u001b[0m\n\u001b[1;32m      5\u001b[0m     \u001b[0mtpr_df\u001b[0m \u001b[0;34m=\u001b[0m \u001b[0mpd\u001b[0m\u001b[0;34m.\u001b[0m\u001b[0mread_csv\u001b[0m\u001b[0;34m(\u001b[0m\u001b[0;34mf'{results_path}/{comparison}/grouping={grouping}_predict={predict}/{model_name}/tpr.csv'\u001b[0m\u001b[0;34m,\u001b[0m \u001b[0mindex_col\u001b[0m\u001b[0;34m=\u001b[0m\u001b[0;36m0\u001b[0m\u001b[0;34m)\u001b[0m\u001b[0;34m\u001b[0m\u001b[0;34m\u001b[0m\u001b[0m\n\u001b[1;32m      6\u001b[0m \u001b[0;34m\u001b[0m\u001b[0m\n\u001b[0;32m----> 7\u001b[0;31m     \u001b[0maucs\u001b[0m \u001b[0;34m=\u001b[0m \u001b[0mauc_df\u001b[0m\u001b[0;34m[\u001b[0m\u001b[0;34m'auc'\u001b[0m\u001b[0;34m]\u001b[0m\u001b[0;34m.\u001b[0m\u001b[0mtolist\u001b[0m\u001b[0;34m(\u001b[0m\u001b[0;34m)\u001b[0m\u001b[0;34m\u001b[0m\u001b[0;34m\u001b[0m\u001b[0m\n\u001b[0m\u001b[1;32m      8\u001b[0m     \u001b[0mauprcs\u001b[0m \u001b[0;34m=\u001b[0m \u001b[0mauc_df\u001b[0m\u001b[0;34m[\u001b[0m\u001b[0;34m'auprc'\u001b[0m\u001b[0;34m]\u001b[0m\u001b[0;34m.\u001b[0m\u001b[0mtolist\u001b[0m\u001b[0;34m(\u001b[0m\u001b[0;34m)\u001b[0m\u001b[0;34m\u001b[0m\u001b[0;34m\u001b[0m\u001b[0m\n\u001b[1;32m      9\u001b[0m \u001b[0;34m\u001b[0m\u001b[0m\n",
      "\u001b[0;32m~/.local/lib/python3.9/site-packages/pandas/core/frame.py\u001b[0m in \u001b[0;36m__getitem__\u001b[0;34m(self, key)\u001b[0m\n\u001b[1;32m   3456\u001b[0m             \u001b[0;32mif\u001b[0m \u001b[0mself\u001b[0m\u001b[0;34m.\u001b[0m\u001b[0mcolumns\u001b[0m\u001b[0;34m.\u001b[0m\u001b[0mnlevels\u001b[0m \u001b[0;34m>\u001b[0m \u001b[0;36m1\u001b[0m\u001b[0;34m:\u001b[0m\u001b[0;34m\u001b[0m\u001b[0;34m\u001b[0m\u001b[0m\n\u001b[1;32m   3457\u001b[0m                 \u001b[0;32mreturn\u001b[0m \u001b[0mself\u001b[0m\u001b[0;34m.\u001b[0m\u001b[0m_getitem_multilevel\u001b[0m\u001b[0;34m(\u001b[0m\u001b[0mkey\u001b[0m\u001b[0;34m)\u001b[0m\u001b[0;34m\u001b[0m\u001b[0;34m\u001b[0m\u001b[0m\n\u001b[0;32m-> 3458\u001b[0;31m             \u001b[0mindexer\u001b[0m \u001b[0;34m=\u001b[0m \u001b[0mself\u001b[0m\u001b[0;34m.\u001b[0m\u001b[0mcolumns\u001b[0m\u001b[0;34m.\u001b[0m\u001b[0mget_loc\u001b[0m\u001b[0;34m(\u001b[0m\u001b[0mkey\u001b[0m\u001b[0;34m)\u001b[0m\u001b[0;34m\u001b[0m\u001b[0;34m\u001b[0m\u001b[0m\n\u001b[0m\u001b[1;32m   3459\u001b[0m             \u001b[0;32mif\u001b[0m \u001b[0mis_integer\u001b[0m\u001b[0;34m(\u001b[0m\u001b[0mindexer\u001b[0m\u001b[0;34m)\u001b[0m\u001b[0;34m:\u001b[0m\u001b[0;34m\u001b[0m\u001b[0;34m\u001b[0m\u001b[0m\n\u001b[1;32m   3460\u001b[0m                 \u001b[0mindexer\u001b[0m \u001b[0;34m=\u001b[0m \u001b[0;34m[\u001b[0m\u001b[0mindexer\u001b[0m\u001b[0;34m]\u001b[0m\u001b[0;34m\u001b[0m\u001b[0;34m\u001b[0m\u001b[0m\n",
      "\u001b[0;32m~/.local/lib/python3.9/site-packages/pandas/core/indexes/base.py\u001b[0m in \u001b[0;36mget_loc\u001b[0;34m(self, key, method, tolerance)\u001b[0m\n\u001b[1;32m   3361\u001b[0m                 \u001b[0;32mreturn\u001b[0m \u001b[0mself\u001b[0m\u001b[0;34m.\u001b[0m\u001b[0m_engine\u001b[0m\u001b[0;34m.\u001b[0m\u001b[0mget_loc\u001b[0m\u001b[0;34m(\u001b[0m\u001b[0mcasted_key\u001b[0m\u001b[0;34m)\u001b[0m\u001b[0;34m\u001b[0m\u001b[0;34m\u001b[0m\u001b[0m\n\u001b[1;32m   3362\u001b[0m             \u001b[0;32mexcept\u001b[0m \u001b[0mKeyError\u001b[0m \u001b[0;32mas\u001b[0m \u001b[0merr\u001b[0m\u001b[0;34m:\u001b[0m\u001b[0;34m\u001b[0m\u001b[0;34m\u001b[0m\u001b[0m\n\u001b[0;32m-> 3363\u001b[0;31m                 \u001b[0;32mraise\u001b[0m \u001b[0mKeyError\u001b[0m\u001b[0;34m(\u001b[0m\u001b[0mkey\u001b[0m\u001b[0;34m)\u001b[0m \u001b[0;32mfrom\u001b[0m \u001b[0merr\u001b[0m\u001b[0;34m\u001b[0m\u001b[0;34m\u001b[0m\u001b[0m\n\u001b[0m\u001b[1;32m   3364\u001b[0m \u001b[0;34m\u001b[0m\u001b[0m\n\u001b[1;32m   3365\u001b[0m         \u001b[0;32mif\u001b[0m \u001b[0mis_scalar\u001b[0m\u001b[0;34m(\u001b[0m\u001b[0mkey\u001b[0m\u001b[0;34m)\u001b[0m \u001b[0;32mand\u001b[0m \u001b[0misna\u001b[0m\u001b[0;34m(\u001b[0m\u001b[0mkey\u001b[0m\u001b[0;34m)\u001b[0m \u001b[0;32mand\u001b[0m \u001b[0;32mnot\u001b[0m \u001b[0mself\u001b[0m\u001b[0;34m.\u001b[0m\u001b[0mhasnans\u001b[0m\u001b[0;34m:\u001b[0m\u001b[0;34m\u001b[0m\u001b[0;34m\u001b[0m\u001b[0m\n",
      "\u001b[0;31mKeyError\u001b[0m: 'auc'"
     ]
    },
    {
     "data": {
      "image/png": "[encoded data removed]",
      "text/plain": [
       "<Figure size 1080x432 with 2 Axes>"
      ]
     },
     "metadata": {
      "needs_background": "light"
     },
     "output_type": "display_data"
    }
   ],
   "source": [
    "fig, axs = plt.subplots(1, 2, figsize = (15,6)) # create a figure for both AUC plots\n",
    "for comparison in prediction_comparisons:\n",
    "    get_metrics(results_path = 'results/', axs = axs, comparison = comparison, model_name = 'XGBoost', grouping = 2, predict = 6)"
   ]
  },
  {
   "cell_type": "code",
   "execution_count": null,
   "id": "honey-recycling",
   "metadata": {},
   "outputs": [],
   "source": []
  }
 ],
 "metadata": {
  "kernelspec": {
   "display_name": "Python 3",
   "language": "python",
   "name": "python3"
  },
  "language_info": {
   "codemirror_mode": {
    "name": "ipython",
    "version": 3
   },
   "file_extension": ".py",
   "mimetype": "text/x-python",
   "name": "python",
   "nbconvert_exporter": "python",
   "pygments_lexer": "ipython3",
   "version": "3.9.5"
  }
 },
 "nbformat": 4,
 "nbformat_minor": 5
}
